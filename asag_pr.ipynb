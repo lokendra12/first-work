{
 "cells": [
  {
   "cell_type": "markdown",
   "id": "7c0b276b",
   "metadata": {},
   "source": [
    "<h3>Importing libraries<h3>"
   ]
  },
  {
   "cell_type": "code",
   "execution_count": 1,
   "id": "8ee0d4d5",
   "metadata": {},
   "outputs": [],
   "source": [
    "import pandas as pd\n",
    "import numpy as np\n",
    "import re\n",
    "import nltk\n",
    "from nltk import word_tokenize\n",
    "from nltk.corpus import stopwords\n",
    "from nltk.stem import WordNetLemmatizer\n",
    "import warnings\n",
    "warnings.filterwarnings('ignore')"
   ]
  },
  {
   "cell_type": "code",
   "execution_count": 2,
   "id": "4143d2cd",
   "metadata": {},
   "outputs": [],
   "source": [
    "asag=pd.read_csv(r'C:\\Users\\admin\\Desktop\\mohler_dataset_edited.csv')"
   ]
  },
  {
   "cell_type": "code",
   "execution_count": 3,
   "id": "13bc7a91",
   "metadata": {},
   "outputs": [
    {
     "data": {
      "text/html": [
       "<div>\n",
       "<style scoped>\n",
       "    .dataframe tbody tr th:only-of-type {\n",
       "        vertical-align: middle;\n",
       "    }\n",
       "\n",
       "    .dataframe tbody tr th {\n",
       "        vertical-align: top;\n",
       "    }\n",
       "\n",
       "    .dataframe thead th {\n",
       "        text-align: right;\n",
       "    }\n",
       "</style>\n",
       "<table border=\"1\" class=\"dataframe\">\n",
       "  <thead>\n",
       "    <tr style=\"text-align: right;\">\n",
       "      <th></th>\n",
       "      <th>id</th>\n",
       "      <th>question</th>\n",
       "      <th>desired_answer</th>\n",
       "      <th>student_answer</th>\n",
       "      <th>score_me</th>\n",
       "      <th>score_other</th>\n",
       "      <th>score_avg</th>\n",
       "    </tr>\n",
       "  </thead>\n",
       "  <tbody>\n",
       "    <tr>\n",
       "      <th>0</th>\n",
       "      <td>1.1</td>\n",
       "      <td>What is the role of a prototype program in pro...</td>\n",
       "      <td>To simulate the behaviour of portions of the d...</td>\n",
       "      <td>High risk problems are address in the prototyp...</td>\n",
       "      <td>4.0</td>\n",
       "      <td>3.0</td>\n",
       "      <td>3.5</td>\n",
       "    </tr>\n",
       "    <tr>\n",
       "      <th>1</th>\n",
       "      <td>1.1</td>\n",
       "      <td>What is the role of a prototype program in pro...</td>\n",
       "      <td>To simulate the behaviour of portions of the d...</td>\n",
       "      <td>To simulate portions of the desired final prod...</td>\n",
       "      <td>5.0</td>\n",
       "      <td>5.0</td>\n",
       "      <td>5.0</td>\n",
       "    </tr>\n",
       "    <tr>\n",
       "      <th>2</th>\n",
       "      <td>1.1</td>\n",
       "      <td>What is the role of a prototype program in pro...</td>\n",
       "      <td>To simulate the behaviour of portions of the d...</td>\n",
       "      <td>A prototype program simulates the behaviors of...</td>\n",
       "      <td>5.0</td>\n",
       "      <td>3.0</td>\n",
       "      <td>4.0</td>\n",
       "    </tr>\n",
       "    <tr>\n",
       "      <th>3</th>\n",
       "      <td>1.1</td>\n",
       "      <td>What is the role of a prototype program in pro...</td>\n",
       "      <td>To simulate the behaviour of portions of the d...</td>\n",
       "      <td>Defined in the Specification phase a prototype...</td>\n",
       "      <td>5.0</td>\n",
       "      <td>5.0</td>\n",
       "      <td>5.0</td>\n",
       "    </tr>\n",
       "    <tr>\n",
       "      <th>4</th>\n",
       "      <td>1.1</td>\n",
       "      <td>What is the role of a prototype program in pro...</td>\n",
       "      <td>To simulate the behaviour of portions of the d...</td>\n",
       "      <td>It is used to let the users have a first idea ...</td>\n",
       "      <td>3.0</td>\n",
       "      <td>3.0</td>\n",
       "      <td>3.0</td>\n",
       "    </tr>\n",
       "    <tr>\n",
       "      <th>5</th>\n",
       "      <td>1.1</td>\n",
       "      <td>What is the role of a prototype program in pro...</td>\n",
       "      <td>To simulate the behaviour of portions of the d...</td>\n",
       "      <td>To find problem and errors in a program before...</td>\n",
       "      <td>2.0</td>\n",
       "      <td>2.0</td>\n",
       "      <td>2.0</td>\n",
       "    </tr>\n",
       "    <tr>\n",
       "      <th>6</th>\n",
       "      <td>1.1</td>\n",
       "      <td>What is the role of a prototype program in pro...</td>\n",
       "      <td>To simulate the behaviour of portions of the d...</td>\n",
       "      <td>To address major issues in the creation of the...</td>\n",
       "      <td>3.0</td>\n",
       "      <td>2.0</td>\n",
       "      <td>2.5</td>\n",
       "    </tr>\n",
       "  </tbody>\n",
       "</table>\n",
       "</div>"
      ],
      "text/plain": [
       "    id                                           question  \\\n",
       "0  1.1  What is the role of a prototype program in pro...   \n",
       "1  1.1  What is the role of a prototype program in pro...   \n",
       "2  1.1  What is the role of a prototype program in pro...   \n",
       "3  1.1  What is the role of a prototype program in pro...   \n",
       "4  1.1  What is the role of a prototype program in pro...   \n",
       "5  1.1  What is the role of a prototype program in pro...   \n",
       "6  1.1  What is the role of a prototype program in pro...   \n",
       "\n",
       "                                      desired_answer  \\\n",
       "0  To simulate the behaviour of portions of the d...   \n",
       "1  To simulate the behaviour of portions of the d...   \n",
       "2  To simulate the behaviour of portions of the d...   \n",
       "3  To simulate the behaviour of portions of the d...   \n",
       "4  To simulate the behaviour of portions of the d...   \n",
       "5  To simulate the behaviour of portions of the d...   \n",
       "6  To simulate the behaviour of portions of the d...   \n",
       "\n",
       "                                      student_answer  score_me  score_other  \\\n",
       "0  High risk problems are address in the prototyp...       4.0          3.0   \n",
       "1  To simulate portions of the desired final prod...       5.0          5.0   \n",
       "2  A prototype program simulates the behaviors of...       5.0          3.0   \n",
       "3  Defined in the Specification phase a prototype...       5.0          5.0   \n",
       "4  It is used to let the users have a first idea ...       3.0          3.0   \n",
       "5  To find problem and errors in a program before...       2.0          2.0   \n",
       "6  To address major issues in the creation of the...       3.0          2.0   \n",
       "\n",
       "   score_avg  \n",
       "0        3.5  \n",
       "1        5.0  \n",
       "2        4.0  \n",
       "3        5.0  \n",
       "4        3.0  \n",
       "5        2.0  \n",
       "6        2.5  "
      ]
     },
     "execution_count": 3,
     "metadata": {},
     "output_type": "execute_result"
    }
   ],
   "source": [
    "asag.head(7)"
   ]
  },
  {
   "cell_type": "code",
   "execution_count": 4,
   "id": "2bec10d1",
   "metadata": {},
   "outputs": [
    {
     "name": "stdout",
     "output_type": "stream",
     "text": [
      "id\n",
      "question\n",
      "desired_answer\n",
      "student_answer\n",
      "score_me\n",
      "score_other\n",
      "score_avg\n"
     ]
    }
   ],
   "source": [
    "for col in asag.columns:\n",
    "    print(col)\n"
   ]
  },
  {
   "cell_type": "markdown",
   "id": "a44750d3",
   "metadata": {},
   "source": [
    "<h4>Data exploration</h4>"
   ]
  },
  {
   "cell_type": "code",
   "execution_count": 3,
   "id": "463e8a9f",
   "metadata": {},
   "outputs": [
    {
     "data": {
      "image/png": "[encoded data removed]",
      "text/plain": [
       "<Figure size 432x288 with 1 Axes>"
      ]
     },
     "metadata": {
      "needs_background": "light"
     },
     "output_type": "display_data"
    }
   ],
   "source": [
    "import matplotlib.pyplot as plt\n",
    "fig = plt.figure()\n",
    "ax = fig.add_subplot(111)\n",
    "count = asag['score_avg'].value_counts(sort=False)\n",
    "hist = asag['score_avg'].hist(grid=False)\n",
    "ax.set_xticks(np.arange(0, 5.5, 0.5))\n",
    "ax.grid(linestyle='--')\n",
    "\n",
    "plt.ylabel('count', fontsize=12, weight='bold')\n",
    "plt.xlabel('assigned grade', fontsize=12, weight='bold')\n",
    "\n",
    "plt.show()"
   ]
  },
  {
   "cell_type": "markdown",
   "id": "d392c87b",
   "metadata": {},
   "source": [
    "<h3>Pre Processing</h>"
   ]
  },
  {
   "cell_type": "markdown",
   "id": "56d4008c",
   "metadata": {},
   "source": [
    "<h4> Converting to lowercase</h4>"
   ]
  },
  {
   "cell_type": "code",
   "execution_count": 6,
   "id": "e46c584d",
   "metadata": {},
   "outputs": [],
   "source": [
    "def clean_lowercase(review_text):\n",
    "    return str(review_text).lower()\n",
    "asag['desired_answer'] = asag['desired_answer'].apply(clean_lowercase)\n",
    "asag['student_answer'] = asag['student_answer'].apply(clean_lowercase)\n"
   ]
  },
  {
   "cell_type": "markdown",
   "id": "7c485bda",
   "metadata": {},
   "source": [
    "<h4>Tokenization</h4>"
   ]
  },
  {
   "cell_type": "code",
   "execution_count": 7,
   "id": "61bf4b35",
   "metadata": {},
   "outputs": [
    {
     "name": "stderr",
     "output_type": "stream",
     "text": [
      "[nltk_data] Downloading package punkt to\n",
      "[nltk_data]     C:\\Users\\admin\\AppData\\Roaming\\nltk_data...\n",
      "[nltk_data]   Package punkt is already up-to-date!\n"
     ]
    },
    {
     "data": {
      "text/plain": [
       "True"
      ]
     },
     "execution_count": 7,
     "metadata": {},
     "output_type": "execute_result"
    }
   ],
   "source": [
    "import nltk\n",
    "nltk.download('punkt')\n"
   ]
  },
  {
   "cell_type": "code",
   "execution_count": 8,
   "id": "1f237e90",
   "metadata": {},
   "outputs": [],
   "source": [
    "def clean_tokenization(review_text):\n",
    "    return word_tokenize(review_text)\n",
    "asag['desired_answer'] = asag['desired_answer'].apply(clean_tokenization)\n",
    "asag['student_answer'] = asag['student_answer'].apply(clean_tokenization)\n"
   ]
  },
  {
   "cell_type": "code",
   "execution_count": 9,
   "id": "d15578d8",
   "metadata": {},
   "outputs": [
    {
     "data": {
      "text/html": [
       "<div>\n",
       "<style scoped>\n",
       "    .dataframe tbody tr th:only-of-type {\n",
       "        vertical-align: middle;\n",
       "    }\n",
       "\n",
       "    .dataframe tbody tr th {\n",
       "        vertical-align: top;\n",
       "    }\n",
       "\n",
       "    .dataframe thead th {\n",
       "        text-align: right;\n",
       "    }\n",
       "</style>\n",
       "<table border=\"1\" class=\"dataframe\">\n",
       "  <thead>\n",
       "    <tr style=\"text-align: right;\">\n",
       "      <th></th>\n",
       "      <th>id</th>\n",
       "      <th>question</th>\n",
       "      <th>desired_answer</th>\n",
       "      <th>student_answer</th>\n",
       "      <th>score_me</th>\n",
       "      <th>score_other</th>\n",
       "      <th>score_avg</th>\n",
       "    </tr>\n",
       "  </thead>\n",
       "  <tbody>\n",
       "    <tr>\n",
       "      <th>0</th>\n",
       "      <td>1.1</td>\n",
       "      <td>What is the role of a prototype program in pro...</td>\n",
       "      <td>[to, simulate, the, behaviour, of, portions, o...</td>\n",
       "      <td>[high, risk, problems, are, address, in, the, ...</td>\n",
       "      <td>4.0</td>\n",
       "      <td>3.0</td>\n",
       "      <td>3.5</td>\n",
       "    </tr>\n",
       "    <tr>\n",
       "      <th>1</th>\n",
       "      <td>1.1</td>\n",
       "      <td>What is the role of a prototype program in pro...</td>\n",
       "      <td>[to, simulate, the, behaviour, of, portions, o...</td>\n",
       "      <td>[to, simulate, portions, of, the, desired, fin...</td>\n",
       "      <td>5.0</td>\n",
       "      <td>5.0</td>\n",
       "      <td>5.0</td>\n",
       "    </tr>\n",
       "    <tr>\n",
       "      <th>2</th>\n",
       "      <td>1.1</td>\n",
       "      <td>What is the role of a prototype program in pro...</td>\n",
       "      <td>[to, simulate, the, behaviour, of, portions, o...</td>\n",
       "      <td>[a, prototype, program, simulates, the, behavi...</td>\n",
       "      <td>5.0</td>\n",
       "      <td>3.0</td>\n",
       "      <td>4.0</td>\n",
       "    </tr>\n",
       "    <tr>\n",
       "      <th>3</th>\n",
       "      <td>1.1</td>\n",
       "      <td>What is the role of a prototype program in pro...</td>\n",
       "      <td>[to, simulate, the, behaviour, of, portions, o...</td>\n",
       "      <td>[defined, in, the, specification, phase, a, pr...</td>\n",
       "      <td>5.0</td>\n",
       "      <td>5.0</td>\n",
       "      <td>5.0</td>\n",
       "    </tr>\n",
       "    <tr>\n",
       "      <th>4</th>\n",
       "      <td>1.1</td>\n",
       "      <td>What is the role of a prototype program in pro...</td>\n",
       "      <td>[to, simulate, the, behaviour, of, portions, o...</td>\n",
       "      <td>[it, is, used, to, let, the, users, have, a, f...</td>\n",
       "      <td>3.0</td>\n",
       "      <td>3.0</td>\n",
       "      <td>3.0</td>\n",
       "    </tr>\n",
       "  </tbody>\n",
       "</table>\n",
       "</div>"
      ],
      "text/plain": [
       "    id                                           question  \\\n",
       "0  1.1  What is the role of a prototype program in pro...   \n",
       "1  1.1  What is the role of a prototype program in pro...   \n",
       "2  1.1  What is the role of a prototype program in pro...   \n",
       "3  1.1  What is the role of a prototype program in pro...   \n",
       "4  1.1  What is the role of a prototype program in pro...   \n",
       "\n",
       "                                      desired_answer  \\\n",
       "0  [to, simulate, the, behaviour, of, portions, o...   \n",
       "1  [to, simulate, the, behaviour, of, portions, o...   \n",
       "2  [to, simulate, the, behaviour, of, portions, o...   \n",
       "3  [to, simulate, the, behaviour, of, portions, o...   \n",
       "4  [to, simulate, the, behaviour, of, portions, o...   \n",
       "\n",
       "                                      student_answer  score_me  score_other  \\\n",
       "0  [high, risk, problems, are, address, in, the, ...       4.0          3.0   \n",
       "1  [to, simulate, portions, of, the, desired, fin...       5.0          5.0   \n",
       "2  [a, prototype, program, simulates, the, behavi...       5.0          3.0   \n",
       "3  [defined, in, the, specification, phase, a, pr...       5.0          5.0   \n",
       "4  [it, is, used, to, let, the, users, have, a, f...       3.0          3.0   \n",
       "\n",
       "   score_avg  \n",
       "0        3.5  \n",
       "1        5.0  \n",
       "2        4.0  \n",
       "3        5.0  \n",
       "4        3.0  "
      ]
     },
     "execution_count": 9,
     "metadata": {},
     "output_type": "execute_result"
    }
   ],
   "source": [
    "asag.head()"
   ]
  },
  {
   "cell_type": "markdown",
   "id": "88ca4a6a",
   "metadata": {},
   "source": [
    "<h4>Stopword removal</h4>"
   ]
  },
  {
   "cell_type": "code",
   "execution_count": 10,
   "id": "0c41f0c9",
   "metadata": {},
   "outputs": [
    {
     "name": "stderr",
     "output_type": "stream",
     "text": [
      "[nltk_data] Downloading package stopwords to\n",
      "[nltk_data]     C:\\Users\\admin\\AppData\\Roaming\\nltk_data...\n",
      "[nltk_data]   Package stopwords is already up-to-date!\n"
     ]
    },
    {
     "data": {
      "text/plain": [
       "True"
      ]
     },
     "execution_count": 10,
     "metadata": {},
     "output_type": "execute_result"
    }
   ],
   "source": [
    "import nltk\n",
    "nltk.download('stopwords')"
   ]
  },
  {
   "cell_type": "code",
   "execution_count": 11,
   "id": "7105009c",
   "metadata": {},
   "outputs": [],
   "source": [
    "stop_words = set(stopwords.words('english'))\n",
    "def clean_stopwords(token):\n",
    "    return [item for item in token if item not in stop_words]\n",
    "asag['student_answer'] = asag['student_answer'].apply(clean_stopwords)\n",
    "asag['desired_answer'] = asag['desired_answer'].apply(clean_stopwords)\n"
   ]
  },
  {
   "cell_type": "code",
   "execution_count": 12,
   "id": "e117a475",
   "metadata": {},
   "outputs": [
    {
     "data": {
      "text/html": [
       "<div>\n",
       "<style scoped>\n",
       "    .dataframe tbody tr th:only-of-type {\n",
       "        vertical-align: middle;\n",
       "    }\n",
       "\n",
       "    .dataframe tbody tr th {\n",
       "        vertical-align: top;\n",
       "    }\n",
       "\n",
       "    .dataframe thead th {\n",
       "        text-align: right;\n",
       "    }\n",
       "</style>\n",
       "<table border=\"1\" class=\"dataframe\">\n",
       "  <thead>\n",
       "    <tr style=\"text-align: right;\">\n",
       "      <th></th>\n",
       "      <th>id</th>\n",
       "      <th>question</th>\n",
       "      <th>desired_answer</th>\n",
       "      <th>student_answer</th>\n",
       "      <th>score_me</th>\n",
       "      <th>score_other</th>\n",
       "      <th>score_avg</th>\n",
       "    </tr>\n",
       "  </thead>\n",
       "  <tbody>\n",
       "    <tr>\n",
       "      <th>0</th>\n",
       "      <td>1.1</td>\n",
       "      <td>What is the role of a prototype program in pro...</td>\n",
       "      <td>[simulate, behaviour, portions, desired, softw...</td>\n",
       "      <td>[high, risk, problems, address, prototype, pro...</td>\n",
       "      <td>4.0</td>\n",
       "      <td>3.0</td>\n",
       "      <td>3.5</td>\n",
       "    </tr>\n",
       "    <tr>\n",
       "      <th>1</th>\n",
       "      <td>1.1</td>\n",
       "      <td>What is the role of a prototype program in pro...</td>\n",
       "      <td>[simulate, behaviour, portions, desired, softw...</td>\n",
       "      <td>[simulate, portions, desired, final, product, ...</td>\n",
       "      <td>5.0</td>\n",
       "      <td>5.0</td>\n",
       "      <td>5.0</td>\n",
       "    </tr>\n",
       "    <tr>\n",
       "      <th>2</th>\n",
       "      <td>1.1</td>\n",
       "      <td>What is the role of a prototype program in pro...</td>\n",
       "      <td>[simulate, behaviour, portions, desired, softw...</td>\n",
       "      <td>[prototype, program, simulates, behaviors, por...</td>\n",
       "      <td>5.0</td>\n",
       "      <td>3.0</td>\n",
       "      <td>4.0</td>\n",
       "    </tr>\n",
       "    <tr>\n",
       "      <th>3</th>\n",
       "      <td>1.1</td>\n",
       "      <td>What is the role of a prototype program in pro...</td>\n",
       "      <td>[simulate, behaviour, portions, desired, softw...</td>\n",
       "      <td>[defined, specification, phase, prototype, sti...</td>\n",
       "      <td>5.0</td>\n",
       "      <td>5.0</td>\n",
       "      <td>5.0</td>\n",
       "    </tr>\n",
       "    <tr>\n",
       "      <th>4</th>\n",
       "      <td>1.1</td>\n",
       "      <td>What is the role of a prototype program in pro...</td>\n",
       "      <td>[simulate, behaviour, portions, desired, softw...</td>\n",
       "      <td>[used, let, users, first, idea, completed, pro...</td>\n",
       "      <td>3.0</td>\n",
       "      <td>3.0</td>\n",
       "      <td>3.0</td>\n",
       "    </tr>\n",
       "  </tbody>\n",
       "</table>\n",
       "</div>"
      ],
      "text/plain": [
       "    id                                           question  \\\n",
       "0  1.1  What is the role of a prototype program in pro...   \n",
       "1  1.1  What is the role of a prototype program in pro...   \n",
       "2  1.1  What is the role of a prototype program in pro...   \n",
       "3  1.1  What is the role of a prototype program in pro...   \n",
       "4  1.1  What is the role of a prototype program in pro...   \n",
       "\n",
       "                                      desired_answer  \\\n",
       "0  [simulate, behaviour, portions, desired, softw...   \n",
       "1  [simulate, behaviour, portions, desired, softw...   \n",
       "2  [simulate, behaviour, portions, desired, softw...   \n",
       "3  [simulate, behaviour, portions, desired, softw...   \n",
       "4  [simulate, behaviour, portions, desired, softw...   \n",
       "\n",
       "                                      student_answer  score_me  score_other  \\\n",
       "0  [high, risk, problems, address, prototype, pro...       4.0          3.0   \n",
       "1  [simulate, portions, desired, final, product, ...       5.0          5.0   \n",
       "2  [prototype, program, simulates, behaviors, por...       5.0          3.0   \n",
       "3  [defined, specification, phase, prototype, sti...       5.0          5.0   \n",
       "4  [used, let, users, first, idea, completed, pro...       3.0          3.0   \n",
       "\n",
       "   score_avg  \n",
       "0        3.5  \n",
       "1        5.0  \n",
       "2        4.0  \n",
       "3        5.0  \n",
       "4        3.0  "
      ]
     },
     "execution_count": 12,
     "metadata": {},
     "output_type": "execute_result"
    }
   ],
   "source": [
    "asag.head()"
   ]
  },
  {
   "cell_type": "markdown",
   "id": "9a3615f8",
   "metadata": {},
   "source": [
    "<h4>Lemmatization</h4>"
   ]
  },
  {
   "cell_type": "code",
   "execution_count": 13,
   "id": "201ce37a",
   "metadata": {},
   "outputs": [
    {
     "name": "stderr",
     "output_type": "stream",
     "text": [
      "[nltk_data] Downloading package wordnet to\n",
      "[nltk_data]     C:\\Users\\admin\\AppData\\Roaming\\nltk_data...\n",
      "[nltk_data]   Package wordnet is already up-to-date!\n"
     ]
    },
    {
     "data": {
      "text/plain": [
       "True"
      ]
     },
     "execution_count": 13,
     "metadata": {},
     "output_type": "execute_result"
    }
   ],
   "source": [
    "import nltk\n",
    "nltk.download('wordnet')"
   ]
  },
  {
   "cell_type": "code",
   "execution_count": 14,
   "id": "e167ebc0",
   "metadata": {},
   "outputs": [],
   "source": [
    "lemma=WordNetLemmatizer()\n",
    "def clean_lemmatization(token):\n",
    "    return [lemma.lemmatize(word=w,pos='v') for w in token]\n",
    "asag['student_answer'] = asag['student_answer'].apply(clean_lemmatization)\n",
    "asag['desired_answer'] = asag['desired_answer'].apply(clean_lemmatization)\n"
   ]
  },
  {
   "cell_type": "code",
   "execution_count": 15,
   "id": "5f290413",
   "metadata": {},
   "outputs": [
    {
     "data": {
      "text/html": [
       "<div>\n",
       "<style scoped>\n",
       "    .dataframe tbody tr th:only-of-type {\n",
       "        vertical-align: middle;\n",
       "    }\n",
       "\n",
       "    .dataframe tbody tr th {\n",
       "        vertical-align: top;\n",
       "    }\n",
       "\n",
       "    .dataframe thead th {\n",
       "        text-align: right;\n",
       "    }\n",
       "</style>\n",
       "<table border=\"1\" class=\"dataframe\">\n",
       "  <thead>\n",
       "    <tr style=\"text-align: right;\">\n",
       "      <th></th>\n",
       "      <th>id</th>\n",
       "      <th>question</th>\n",
       "      <th>desired_answer</th>\n",
       "      <th>student_answer</th>\n",
       "      <th>score_me</th>\n",
       "      <th>score_other</th>\n",
       "      <th>score_avg</th>\n",
       "    </tr>\n",
       "  </thead>\n",
       "  <tbody>\n",
       "    <tr>\n",
       "      <th>0</th>\n",
       "      <td>1.1</td>\n",
       "      <td>What is the role of a prototype program in pro...</td>\n",
       "      <td>[simulate, behaviour, portion, desire, softwar...</td>\n",
       "      <td>[high, risk, problems, address, prototype, pro...</td>\n",
       "      <td>4.0</td>\n",
       "      <td>3.0</td>\n",
       "      <td>3.5</td>\n",
       "    </tr>\n",
       "    <tr>\n",
       "      <th>1</th>\n",
       "      <td>1.1</td>\n",
       "      <td>What is the role of a prototype program in pro...</td>\n",
       "      <td>[simulate, behaviour, portion, desire, softwar...</td>\n",
       "      <td>[simulate, portion, desire, final, product, qu...</td>\n",
       "      <td>5.0</td>\n",
       "      <td>5.0</td>\n",
       "      <td>5.0</td>\n",
       "    </tr>\n",
       "    <tr>\n",
       "      <th>2</th>\n",
       "      <td>1.1</td>\n",
       "      <td>What is the role of a prototype program in pro...</td>\n",
       "      <td>[simulate, behaviour, portion, desire, softwar...</td>\n",
       "      <td>[prototype, program, simulate, behaviors, port...</td>\n",
       "      <td>5.0</td>\n",
       "      <td>3.0</td>\n",
       "      <td>4.0</td>\n",
       "    </tr>\n",
       "    <tr>\n",
       "      <th>3</th>\n",
       "      <td>1.1</td>\n",
       "      <td>What is the role of a prototype program in pro...</td>\n",
       "      <td>[simulate, behaviour, portion, desire, softwar...</td>\n",
       "      <td>[define, specification, phase, prototype, stim...</td>\n",
       "      <td>5.0</td>\n",
       "      <td>5.0</td>\n",
       "      <td>5.0</td>\n",
       "    </tr>\n",
       "    <tr>\n",
       "      <th>4</th>\n",
       "      <td>1.1</td>\n",
       "      <td>What is the role of a prototype program in pro...</td>\n",
       "      <td>[simulate, behaviour, portion, desire, softwar...</td>\n",
       "      <td>[use, let, users, first, idea, complete, progr...</td>\n",
       "      <td>3.0</td>\n",
       "      <td>3.0</td>\n",
       "      <td>3.0</td>\n",
       "    </tr>\n",
       "  </tbody>\n",
       "</table>\n",
       "</div>"
      ],
      "text/plain": [
       "    id                                           question  \\\n",
       "0  1.1  What is the role of a prototype program in pro...   \n",
       "1  1.1  What is the role of a prototype program in pro...   \n",
       "2  1.1  What is the role of a prototype program in pro...   \n",
       "3  1.1  What is the role of a prototype program in pro...   \n",
       "4  1.1  What is the role of a prototype program in pro...   \n",
       "\n",
       "                                      desired_answer  \\\n",
       "0  [simulate, behaviour, portion, desire, softwar...   \n",
       "1  [simulate, behaviour, portion, desire, softwar...   \n",
       "2  [simulate, behaviour, portion, desire, softwar...   \n",
       "3  [simulate, behaviour, portion, desire, softwar...   \n",
       "4  [simulate, behaviour, portion, desire, softwar...   \n",
       "\n",
       "                                      student_answer  score_me  score_other  \\\n",
       "0  [high, risk, problems, address, prototype, pro...       4.0          3.0   \n",
       "1  [simulate, portion, desire, final, product, qu...       5.0          5.0   \n",
       "2  [prototype, program, simulate, behaviors, port...       5.0          3.0   \n",
       "3  [define, specification, phase, prototype, stim...       5.0          5.0   \n",
       "4  [use, let, users, first, idea, complete, progr...       3.0          3.0   \n",
       "\n",
       "   score_avg  \n",
       "0        3.5  \n",
       "1        5.0  \n",
       "2        4.0  \n",
       "3        5.0  \n",
       "4        3.0  "
      ]
     },
     "execution_count": 15,
     "metadata": {},
     "output_type": "execute_result"
    }
   ],
   "source": [
    "asag.head()"
   ]
  },
  {
   "cell_type": "markdown",
   "id": "ab9a1bae",
   "metadata": {},
   "source": [
    "<h4>Converting back to string to create feature vectors</h4>"
   ]
  },
  {
   "cell_type": "code",
   "execution_count": 16,
   "id": "5676be54",
   "metadata": {},
   "outputs": [],
   "source": [
    "def convert_to_string(review_list):\n",
    "    return ' '.join(review_list)\n",
    "asag['student_answer'] = asag['student_answer'].apply(convert_to_string)\n",
    "asag['desired_answer'] = asag['desired_answer'].apply(convert_to_string)\n"
   ]
  },
  {
   "cell_type": "markdown",
   "id": "d7c8e168",
   "metadata": {},
   "source": [
    "<h3>Word embedding/vector</h3>"
   ]
  },
  {
   "cell_type": "code",
   "execution_count": 17,
   "id": "9edaa2d2",
   "metadata": {},
   "outputs": [],
   "source": [
    "import spacy\n",
    "spacy.load('en_core_web_md')\n",
    "nlp = spacy.load('en_core_web_md')"
   ]
  },
  {
   "cell_type": "code",
   "execution_count": null,
   "id": "071a19f4",
   "metadata": {},
   "outputs": [],
   "source": [
    "#from gensim.models import KeyedVectors\n",
    "#!pip install gemsim\n",
    "#pip install -U pip setuptools wheel"
   ]
  },
  {
   "cell_type": "code",
   "execution_count": null,
   "id": "3a60dd6e",
   "metadata": {},
   "outputs": [],
   "source": [
    "#!pip install gemsim"
   ]
  },
  {
   "cell_type": "code",
   "execution_count": null,
   "id": "c955fce5",
   "metadata": {},
   "outputs": [],
   "source": [
    "#!python -m spacy download en_core_web_md\n",
    "#nlp = spacy.load('en_core_web_lg')"
   ]
  },
  {
   "cell_type": "markdown",
   "id": "a61760ca",
   "metadata": {},
   "source": [
    "<h4>feature vector for desired answer</h4>\n"
   ]
  },
  {
   "cell_type": "code",
   "execution_count": 18,
   "id": "1cafd1af",
   "metadata": {},
   "outputs": [],
   "source": [
    "#list for desire answer feature vector\n",
    "des_fv=[]\n",
    "for index, row in asag.iterrows():\n",
    "    doc=nlp(row['desired_answer'])   \n",
    "    des_fv.append(doc.vector)    "
   ]
  },
  {
   "cell_type": "markdown",
   "id": "4a11f563",
   "metadata": {},
   "source": [
    "<h4>feature vector for student's answers</h4>"
   ]
  },
  {
   "cell_type": "code",
   "execution_count": 19,
   "id": "618834ff",
   "metadata": {},
   "outputs": [],
   "source": [
    "ans_fv=[]\n",
    "for index, row in asag.iterrows():\n",
    "    doc=nlp(row['student_answer'])   \n",
    "    ans_fv.append(doc.vector)"
   ]
  },
  {
   "cell_type": "markdown",
   "id": "1cd42b1e",
   "metadata": {},
   "source": [
    "<h4>cosine similarity</h4>"
   ]
  },
  {
   "cell_type": "code",
   "execution_count": 20,
   "id": "1ae9fb1c",
   "metadata": {},
   "outputs": [],
   "source": [
    "def cosine_similarity(a, b):\n",
    "    return a.dot(b)/np.sqrt(a.dot(a) * b.dot(b))\n"
   ]
  },
  {
   "cell_type": "code",
   "execution_count": 21,
   "id": "e698b5ff",
   "metadata": {},
   "outputs": [],
   "source": [
    "cos_sim=[]\n",
    "for i in range(len(ans_fv)):\n",
    "    cos_sim.append(cosine_similarity(des_fv[i], ans_fv[i]))"
   ]
  },
  {
   "cell_type": "code",
   "execution_count": 22,
   "id": "03626180",
   "metadata": {},
   "outputs": [],
   "source": [
    "asag[\"cos_sim\"]=cos_sim"
   ]
  },
  {
   "cell_type": "code",
   "execution_count": 23,
   "id": "32d389c1",
   "metadata": {},
   "outputs": [
    {
     "name": "stdout",
     "output_type": "stream",
     "text": [
      "id\n",
      "question\n",
      "desired_answer\n",
      "student_answer\n",
      "score_me\n",
      "score_other\n",
      "score_avg\n",
      "cos_sim\n"
     ]
    }
   ],
   "source": [
    "for col in asag.columns:\n",
    "    print(col)"
   ]
  },
  {
   "cell_type": "markdown",
   "id": "94331dc9",
   "metadata": {},
   "source": [
    "<h3>Training</h3>"
   ]
  },
  {
   "cell_type": "markdown",
   "id": "bb5cebdb",
   "metadata": {},
   "source": [
    "<h4>Target variable</h4>"
   ]
  },
  {
   "cell_type": "code",
   "execution_count": 24,
   "id": "a33d1251",
   "metadata": {},
   "outputs": [
    {
     "data": {
      "text/plain": [
       "(array([], dtype=int64),)"
      ]
     },
     "execution_count": 24,
     "metadata": {},
     "output_type": "execute_result"
    }
   ],
   "source": [
    "\n",
    "asag.dropna(inplace = True)\n",
    "np.where(asag.cos_sim >= np.finfo(np.float64).max)"
   ]
  },
  {
   "cell_type": "code",
   "execution_count": 25,
   "id": "e41efa8a",
   "metadata": {},
   "outputs": [],
   "source": [
    "y = asag.score_avg"
   ]
  },
  {
   "cell_type": "markdown",
   "id": "827992c1",
   "metadata": {},
   "source": [
    "<h4>Feature vector</h4>"
   ]
  },
  {
   "cell_type": "code",
   "execution_count": 26,
   "id": "f9913837",
   "metadata": {},
   "outputs": [],
   "source": [
    "x = asag[['cos_sim']]"
   ]
  },
  {
   "cell_type": "code",
   "execution_count": 27,
   "id": "c7f29146",
   "metadata": {},
   "outputs": [],
   "source": [
    "#indices_to_keep = ~asag.isin([np.nan, np.inf, -np.inf]).any(1)"
   ]
  },
  {
   "cell_type": "code",
   "execution_count": 28,
   "id": "9d4469f2",
   "metadata": {},
   "outputs": [],
   "source": [
    "#def clean_dataset(df):\n",
    "#    assert isinstance(df, pd.DataFrame), \"df needs to be a pd.DataFrame\"\n",
    " #   df.dropna(inplace=True)\n",
    "  #  indices_to_keep = ~df.isin([np.nan, np.inf, -np.inf]).any(1)\n",
    "   # return df[indices_to_keep]"
   ]
  },
  {
   "cell_type": "code",
   "execution_count": 29,
   "id": "b59419b0",
   "metadata": {},
   "outputs": [],
   "source": [
    "#clean_dataset(asag)"
   ]
  },
  {
   "cell_type": "code",
   "execution_count": 30,
   "id": "418f3872",
   "metadata": {},
   "outputs": [],
   "source": [
    "#to remove infinite or NaN error\n",
    "#def _assert_all_finite(X):\n",
    " #   \"\"\"Like assert_all_finite, but only for ndarray.\"\"\"\n",
    "  #  X = np.asanyarray(X)\n",
    "    # First try an O(n) time, O(1) space solution for the common case that\n",
    "    # everything is finite; fall back to O(n) space np.isfinite to prevent\n",
    "    # false positives from overflow in sum method.\n",
    "   # if (X.dtype.char in np.typecodes['AllFloat'] and not np.isfinite(X.sum())\n",
    "    #        and not np.isfinite(X).all()):\n",
    "     #   raise ValueError(\"Input contains NaN, infinity\"\n",
    "      #                   \" or a value too large for %r.\" % X.dtype)"
   ]
  },
  {
   "cell_type": "code",
   "execution_count": 31,
   "id": "e7dd53ae",
   "metadata": {},
   "outputs": [],
   "source": [
    "#_assert_all_finite(x)"
   ]
  },
  {
   "cell_type": "code",
   "execution_count": 32,
   "id": "d0363817",
   "metadata": {},
   "outputs": [
    {
     "name": "stdout",
     "output_type": "stream",
     "text": [
      "(2268, 1) (2268,)\n"
     ]
    }
   ],
   "source": [
    "print(x.shape, y.shape)"
   ]
  },
  {
   "cell_type": "markdown",
   "id": "f2349d48",
   "metadata": {},
   "source": [
    "<h4>Train test split</h4>"
   ]
  },
  {
   "cell_type": "code",
   "execution_count": 33,
   "id": "bdf14d22",
   "metadata": {},
   "outputs": [],
   "source": [
    "from sklearn.model_selection import train_test_split\n",
    "train_X, val_X, train_y, val_y = train_test_split(x, y, test_size=0.3, random_state = 0)"
   ]
  },
  {
   "cell_type": "code",
   "execution_count": 34,
   "id": "41e169ce",
   "metadata": {},
   "outputs": [],
   "source": [
    "#pip install -U scikit-learn\n",
    "#pip install seaborn"
   ]
  },
  {
   "cell_type": "markdown",
   "id": "696ac922",
   "metadata": {},
   "source": [
    "<h4>Linear regression</h4>"
   ]
  },
  {
   "cell_type": "code",
   "execution_count": 35,
   "id": "3158cdb0",
   "metadata": {},
   "outputs": [],
   "source": [
    "from sklearn import linear_model"
   ]
  },
  {
   "cell_type": "code",
   "execution_count": 36,
   "id": "a5d0e718",
   "metadata": {},
   "outputs": [],
   "source": [
    "import seaborn as sns\n",
    "import matplotlib.pyplot as plt\n",
    "from sklearn.model_selection import train_test_split\n",
    "from sklearn.linear_model import LinearRegression"
   ]
  },
  {
   "cell_type": "code",
   "execution_count": 37,
   "id": "12f457c3",
   "metadata": {},
   "outputs": [
    {
     "data": {
      "text/plain": [
       "LinearRegression()"
      ]
     },
     "execution_count": 37,
     "metadata": {},
     "output_type": "execute_result"
    }
   ],
   "source": [
    "regr = LinearRegression()\n",
    "regr.fit(train_X, train_y)"
   ]
  },
  {
   "cell_type": "code",
   "execution_count": 38,
   "id": "275afcc9",
   "metadata": {},
   "outputs": [],
   "source": [
    "#sns.set_theme(color_codes=True)\n",
    "#tips = sns.load_dataset(\"tips\")"
   ]
  },
  {
   "cell_type": "code",
   "execution_count": 39,
   "id": "bc0bbefc",
   "metadata": {},
   "outputs": [
    {
     "data": {
      "text/plain": [
       "<AxesSubplot:xlabel='score_avg', ylabel='cos_sim'>"
      ]
     },
     "execution_count": 39,
     "metadata": {},
     "output_type": "execute_result"
    },
    {
     "data": {
      "image/png": "[encoded data removed]",
      "text/plain": [
       "<Figure size 432x288 with 1 Axes>"
      ]
     },
     "metadata": {
      "needs_background": "light"
     },
     "output_type": "display_data"
    }
   ],
   "source": [
    "sns.regplot(x='score_avg', y='cos_sim', data=asag)"
   ]
  },
  {
   "cell_type": "markdown",
   "id": "aaf5c004",
   "metadata": {},
   "source": [
    "<h4>Isotonic regression</h4>"
   ]
  },
  {
   "cell_type": "code",
   "execution_count": 40,
   "id": "1408dcb5",
   "metadata": {},
   "outputs": [],
   "source": [
    "from sklearn.isotonic import IsotonicRegression"
   ]
  },
  {
   "cell_type": "code",
   "execution_count": 41,
   "id": "8f2631b9",
   "metadata": {},
   "outputs": [
    {
     "data": {
      "text/plain": [
       "IsotonicRegression()"
      ]
     },
     "execution_count": 41,
     "metadata": {},
     "output_type": "execute_result"
    }
   ],
   "source": [
    "is_regr = IsotonicRegression()\n",
    "is_regr.fit(train_X, train_y)"
   ]
  },
  {
   "cell_type": "code",
   "execution_count": 42,
   "id": "896d96be",
   "metadata": {},
   "outputs": [],
   "source": [
    "predicted_marks_iso = is_regr.predict(val_X)\n",
    "#Removing nan and infinite values\n",
    "iso_pred = np.nan_to_num(predicted_marks_iso)"
   ]
  },
  {
   "cell_type": "markdown",
   "id": "3bf384ca",
   "metadata": {},
   "source": [
    "<h4>K nearest neighbour</h4>"
   ]
  },
  {
   "cell_type": "code",
   "execution_count": 43,
   "id": "745730b0",
   "metadata": {},
   "outputs": [],
   "source": [
    "from sklearn.neighbors import KNeighborsRegressor"
   ]
  },
  {
   "cell_type": "code",
   "execution_count": 44,
   "id": "dc8652e4",
   "metadata": {},
   "outputs": [
    {
     "data": {
      "text/plain": [
       "KNeighborsRegressor()"
      ]
     },
     "execution_count": 44,
     "metadata": {},
     "output_type": "execute_result"
    }
   ],
   "source": [
    "knn = KNeighborsRegressor()\n",
    "knn.fit(train_X, train_y)"
   ]
  },
  {
   "cell_type": "code",
   "execution_count": 45,
   "id": "0c2bad86",
   "metadata": {},
   "outputs": [],
   "source": [
    "knn_pred=knn.predict(val_X)"
   ]
  },
  {
   "cell_type": "markdown",
   "id": "97bb8e75",
   "metadata": {},
   "source": [
    "<h4>Descision Tree</h4>"
   ]
  },
  {
   "cell_type": "code",
   "execution_count": 46,
   "id": "e4610e97",
   "metadata": {},
   "outputs": [
    {
     "data": {
      "text/plain": [
       "DecisionTreeRegressor(random_state=1)"
      ]
     },
     "execution_count": 46,
     "metadata": {},
     "output_type": "execute_result"
    }
   ],
   "source": [
    "from sklearn.tree import DecisionTreeRegressor\n",
    "des_tree = DecisionTreeRegressor(random_state=1)\n",
    "des_tree.fit(train_X, train_y)"
   ]
  },
  {
   "cell_type": "code",
   "execution_count": 47,
   "id": "0a9f982e",
   "metadata": {},
   "outputs": [],
   "source": [
    "dt_pred=knn.predict(val_X)"
   ]
  },
  {
   "cell_type": "code",
   "execution_count": 48,
   "id": "00b70c63",
   "metadata": {},
   "outputs": [
    {
     "data": {
      "text/plain": [
       "RandomForestRegressor(random_state=1)"
      ]
     },
     "execution_count": 48,
     "metadata": {},
     "output_type": "execute_result"
    }
   ],
   "source": [
    "from sklearn.ensemble import RandomForestRegressor\n",
    "forest = RandomForestRegressor(random_state=1)\n",
    "forest.fit(train_X, train_y)"
   ]
  },
  {
   "cell_type": "code",
   "execution_count": 49,
   "id": "2a421b5b",
   "metadata": {},
   "outputs": [],
   "source": [
    "rf_pred = forest.predict(val_X)"
   ]
  },
  {
   "cell_type": "markdown",
   "id": "61ceef39",
   "metadata": {},
   "source": [
    "<h3>Model validation</h4>"
   ]
  },
  {
   "cell_type": "markdown",
   "id": "17ec2bfa",
   "metadata": {},
   "source": [
    "<h4> Mean absolute error for linear regression</h4>"
   ]
  },
  {
   "cell_type": "code",
   "execution_count": 50,
   "id": "6c84a976",
   "metadata": {},
   "outputs": [
    {
     "data": {
      "text/plain": [
       "0.8264346016691339"
      ]
     },
     "execution_count": 50,
     "metadata": {},
     "output_type": "execute_result"
    }
   ],
   "source": [
    "from sklearn.metrics import mean_absolute_error\n",
    "predicted_marks = regr.predict(val_X)\n",
    "mean_absolute_error(val_y, predicted_marks)"
   ]
  },
  {
   "cell_type": "markdown",
   "id": "20a512d9",
   "metadata": {},
   "source": [
    "<h4> Mean absolute error for Isotonic regression</h4>"
   ]
  },
  {
   "cell_type": "code",
   "execution_count": 51,
   "id": "a1942c75",
   "metadata": {},
   "outputs": [
    {
     "data": {
      "text/plain": [
       "0.8202646603930269"
      ]
     },
     "execution_count": 51,
     "metadata": {},
     "output_type": "execute_result"
    }
   ],
   "source": [
    "mean_absolute_error(val_y, iso_pred)"
   ]
  },
  {
   "cell_type": "markdown",
   "id": "7ff6a32f",
   "metadata": {},
   "source": [
    "<h4> Mean absolute error for K nearest neighbour</h4>"
   ]
  },
  {
   "cell_type": "code",
   "execution_count": 52,
   "id": "573bd0ac",
   "metadata": {},
   "outputs": [
    {
     "data": {
      "text/plain": [
       "0.8621879588839942"
      ]
     },
     "execution_count": 52,
     "metadata": {},
     "output_type": "execute_result"
    }
   ],
   "source": [
    "mean_absolute_error(val_y, knn_pred)"
   ]
  },
  {
   "cell_type": "markdown",
   "id": "1b9faaa8",
   "metadata": {},
   "source": [
    "<h4> Mean absolute error for Decision Tree</h4>"
   ]
  },
  {
   "cell_type": "code",
   "execution_count": 53,
   "id": "5b189196",
   "metadata": {},
   "outputs": [
    {
     "data": {
      "text/plain": [
       "0.8621879588839942"
      ]
     },
     "execution_count": 53,
     "metadata": {},
     "output_type": "execute_result"
    }
   ],
   "source": [
    "mean_absolute_error(val_y, dt_pred)"
   ]
  },
  {
   "cell_type": "markdown",
   "id": "bede2ad3",
   "metadata": {},
   "source": [
    "<h4> Mean absolute error for Random Forest</h4>"
   ]
  },
  {
   "cell_type": "code",
   "execution_count": 57,
   "id": "6fb37341",
   "metadata": {},
   "outputs": [
    {
     "data": {
      "text/plain": [
       "0.8622794297601567"
      ]
     },
     "execution_count": 57,
     "metadata": {},
     "output_type": "execute_result"
    }
   ],
   "source": [
    "mean_absolute_error(val_y, rf_pred)"
   ]
  },
  {
   "cell_type": "code",
   "execution_count": 54,
   "id": "8dde3f20",
   "metadata": {
    "scrolled": true
   },
   "outputs": [],
   "source": [
    "l=[]\n",
    "lr=[]\n",
    "ir=[]\n",
    "knn=[]\n",
    "dt=[]\n",
    "rf=[]\n",
    "k=0.16\n",
    "for i in range(10):\n",
    "    k+=0.02\n",
    "    l.append(k)\n",
    "    train_X, val_X, train_y, val_y = train_test_split(x, y, test_size=k, random_state = 0)\n",
    "    #linear regression values\n",
    "    regr = LinearRegression()\n",
    "    regr.fit(train_X, train_y)\n",
    "    predicted_marks_lr = regr.predict(val_X)\n",
    "    lr.append(mean_absolute_error(val_y, predicted_marks_lr))\n",
    "#Isotonic regression\n",
    "    is_regr = IsotonicRegression()\n",
    "    is_regr.fit(train_X, train_y)\n",
    "    predicted_marks_ir = is_regr.predict(val_X)\n",
    "    #ir.append(mean_absolute_error(val_y, predicted_marks_ir))\n",
    "#knn values\n",
    "    knn_m = KNeighborsRegressor()\n",
    "    knn_m.fit(train_X, train_y)\n",
    "    predicted_marks = knn_m.predict(val_X)\n",
    "    knn.append(mean_absolute_error(val_y, predicted_marks))\n",
    "#decision tree values\n",
    "    des_tree = DecisionTreeRegressor(random_state=1)\n",
    "    des_tree.fit(train_X, train_y)\n",
    "    predicted_marks = des_tree.predict(val_X)\n",
    "    dt.append(mean_absolute_error(val_y, predicted_marks))\n",
    "#random forest\n",
    "    forest = RandomForestRegressor(random_state=1)\n",
    "    forest.fit(train_X, train_y)\n",
    "    predicted_marks = forest.predict(val_X)\n",
    "    rf.append(mean_absolute_error(val_y, predicted_marks))\n"
   ]
  },
  {
   "cell_type": "code",
   "execution_count": 55,
   "id": "f26ec4da",
   "metadata": {},
   "outputs": [
    {
     "data": {
      "image/png": "[encoded data removed]",
      "text/plain": [
       "<Figure size 432x288 with 1 Axes>"
      ]
     },
     "metadata": {
      "needs_background": "light"
     },
     "output_type": "display_data"
    }
   ],
   "source": [
    "df=pd.DataFrame({'Test_size': l, 'Linear_reg': lr,  'knn': knn, 'Decision tree': dt, 'Random forest': rf })\n",
    "#Isotonic_reg': ir,\n",
    "# multiple line plots\n",
    "plt.plot( 'Test_size', 'knn', data=df, marker='o', color='yellow', linewidth=4)\n",
    "plt.plot( 'Test_size', 'Linear_reg', data=df, marker='o', color='blue', linewidth=2)\n",
    "#plt.plot( 'Test_size', 'Isotonic_reg', data=df, marker='o', color='green', linewidth=2)\n",
    "plt.plot( 'Test_size', 'Decision tree', data=df, marker='o', color='red', linewidth=2)\n",
    "plt.plot( 'Test_size', 'Random forest', data=df, marker='o', color='orange', linewidth=2)\n",
    "# show legend\n",
    "plt.legend()\n",
    "\n",
    "# show graph\n",
    "plt.show()"
   ]
  },
  {
   "cell_type": "code",
   "execution_count": null,
   "id": "3823167e",
   "metadata": {},
   "outputs": [],
   "source": []
  }
 ],
 "metadata": {
  "kernelspec": {
   "display_name": "Python 3",
   "language": "python",
   "name": "python3"
  },
  "language_info": {
   "codemirror_mode": {
    "name": "ipython",
    "version": 3
   },
   "file_extension": ".py",
   "mimetype": "text/x-python",
   "name": "python",
   "nbconvert_exporter": "python",
   "pygments_lexer": "ipython3",
   "version": "3.9.0"
  }
 },
 "nbformat": 4,
 "nbformat_minor": 5
}
